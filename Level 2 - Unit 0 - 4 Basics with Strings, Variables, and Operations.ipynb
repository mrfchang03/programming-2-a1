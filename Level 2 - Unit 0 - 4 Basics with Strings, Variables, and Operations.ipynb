{
 "cells": [
  {
   "cell_type": "markdown",
   "metadata": {},
   "source": [
    "# Unit 0.4- Basics\n",
    "## f-strings\n",
    "### What does f stand for?\n",
    "\n",
    "F stands for **fast**."
   ]
  },
  {
   "cell_type": "code",
   "execution_count": null,
   "metadata": {},
   "outputs": [],
   "source": [
    "print(f\"This is an f-string!\")"
   ]
  },
  {
   "cell_type": "markdown",
   "metadata": {},
   "source": [
    "## String slices"
   ]
  },
  {
   "cell_type": "code",
   "execution_count": 22,
   "metadata": {},
   "outputs": [
    {
     "name": "stdout",
     "output_type": "stream",
     "text": [
      "Jan\n"
     ]
    }
   ],
   "source": [
    "\n",
    "#        0123456\n",
    "month = \"January\"\n",
    "abbreviation = month[0:3]\n",
    "\n",
    "print(abbreviation)"
   ]
  },
  {
   "cell_type": "code",
   "execution_count": 27,
   "metadata": {},
   "outputs": [
    {
     "name": "stdout",
     "output_type": "stream",
     "text": [
      "Aug\n",
      "gust\n"
     ]
    }
   ],
   "source": [
    "month = \"August\"\n",
    "first_part = month [:3]\n",
    "print(first_part)\n",
    "last_part = month[2:]\n",
    "print(last_part)"
   ]
  },
  {
   "cell_type": "code",
   "execution_count": 31,
   "metadata": {},
   "outputs": [
    {
     "name": "stdout",
     "output_type": "stream",
     "text": [
      "13579\n",
      "2468\n"
     ]
    }
   ],
   "source": [
    "numbers = \"123456789\"\n",
    "#[start:stop:step]\n",
    "odd = numbers[::2]\n",
    "print(odd)\n",
    "\n",
    "even = numbers[1::2]\n",
    "print(even)"
   ]
  },
  {
   "cell_type": "code",
   "execution_count": 32,
   "metadata": {},
   "outputs": [
    {
     "name": "stdout",
     "output_type": "stream",
     "text": [
      "7\n"
     ]
    }
   ],
   "source": [
    "#can give negative indices\n",
    "\n",
    "numbers = \"123456789\"\n",
    "last_num = numbers[-3]\n",
    "print(last_num)"
   ]
  },
  {
   "cell_type": "markdown",
   "metadata": {},
   "source": [
    "### What kind of brackets can you do operations in?\n",
    "\n",
    "We use {} or **braces** to do operations inside of f-strings.\n",
    "\n",
    "### What's an operation?\n",
    "An operation in this case is any mathmatical operation.  \n",
    "Example:\n",
    "\n",
    "#### Using the Math Module\n",
    "We can import the Math module to help us calculate things\n",
    "\n",
    "https://docs.python.org/3/library/math.html\n"
   ]
  },
  {
   "cell_type": "code",
   "execution_count": null,
   "metadata": {},
   "outputs": [],
   "source": []
  },
  {
   "cell_type": "code",
   "execution_count": null,
   "metadata": {},
   "outputs": [],
   "source": []
  },
  {
   "cell_type": "code",
   "execution_count": null,
   "metadata": {},
   "outputs": [],
   "source": []
  },
  {
   "cell_type": "code",
   "execution_count": 6,
   "metadata": {},
   "outputs": [
    {
     "name": "stdout",
     "output_type": "stream",
     "text": [
      "2\n",
      "0.0\n",
      "The GCD of 10 and 688 is 2\n"
     ]
    }
   ],
   "source": [
    "print(1 + 1)\n",
    "\n",
    "import math\n",
    "print(math.sin(0))\n",
    "print(f'The GCD of 10 and 688 is {math.gcd(10, 688)}')"
   ]
  },
  {
   "cell_type": "markdown",
   "metadata": {},
   "source": [
    "## Escape Codes"
   ]
  },
  {
   "cell_type": "code",
   "execution_count": 13,
   "metadata": {},
   "outputs": [
    {
     "name": "stdout",
     "output_type": "stream",
     "text": [
      "One line.\n",
      "\n",
      "Second line.\n",
      "Item\tItem\tItem\n",
      "1.\t2.\t3.\t\n",
      "The boy said, \"Hello!\"\n"
     ]
    }
   ],
   "source": [
    "#\\ <- escape sequence\n",
    "\n",
    "#print(\"One line.\")\n",
    "#print(\"Second line.\")\n",
    "\n",
    "print(\"One line.\\n\\nSecond line.\")\n",
    "\n",
    "#\\t = tab\n",
    "\n",
    "print(\"Item\\tItem\\tItem\")\n",
    "print(\"1.\\t2.\\t3.\\t\")\n",
    "\n",
    "#\\\" = inserts a literal double quote\n",
    "\n",
    "print(\"The boy said, \\\"Hello!\\\"\")"
   ]
  },
  {
   "cell_type": "markdown",
   "metadata": {},
   "source": [
    "## Variables"
   ]
  },
  {
   "cell_type": "code",
   "execution_count": 14,
   "metadata": {},
   "outputs": [],
   "source": [
    "# \"=\" assignment\n",
    "\n",
    "message = \"Your time is up.\"\n",
    "# The right side is assigned to the variable. Reserving space in the variable message. \n",
    "#Putting value in the variable message.\n",
    "\n",
    "# How do you properly name variables?\n",
    "# Variables should start with a lowercase letter\n",
    "\n",
    "name = \"Joe mama\"\n",
    "age = 2\n",
    "\n",
    "#If you need a space in a variable, use an underscore\n",
    "\n",
    "date_of_birth = \"December 14\"\n",
    "dateOfBirth = \"December 14\" # Don't use this\n",
    "dob = \"December 14\"# Don't use this, be as descriptive as possible\n",
    "\n",
    "#Constants should be in CAPITAL LETTERS.\n",
    "SCREEN_WIDTH = 1024\n",
    "SCREEN_HEIGHT = 768\n",
    "\n",
    "#You can use numbers in names\n",
    "\n",
    "number_of_2s = 28\n",
    "#Don't start a variable with a number\n"
   ]
  },
  {
   "cell_type": "markdown",
   "metadata": {},
   "source": [
    "## Reassignment\n"
   ]
  },
  {
   "cell_type": "code",
   "execution_count": 17,
   "metadata": {},
   "outputs": [
    {
     "name": "stdout",
     "output_type": "stream",
     "text": [
      "5\n",
      "7\n"
     ]
    }
   ],
   "source": [
    "bruces_age = 5\n",
    "print(bruces_age)\n",
    "bruces_age = 7\n",
    "print(bruces_age)\n",
    "\n",
    "#bruces age ----> 5 years old\n",
    "#bruces age = 7---/---> 5\n",
    "#bruces age = 7"
   ]
  },
  {
   "cell_type": "code",
   "execution_count": 18,
   "metadata": {},
   "outputs": [
    {
     "name": "stdout",
     "output_type": "stream",
     "text": [
      "5\n"
     ]
    }
   ],
   "source": [
    "a = 5\n",
    "b = a\n",
    "a = 10\n",
    "print(b)\n",
    "#still prints 5 unless u put b = a after a = 10"
   ]
  },
  {
   "cell_type": "markdown",
   "metadata": {},
   "source": [
    "## Updating Variables\n"
   ]
  },
  {
   "cell_type": "code",
   "execution_count": 21,
   "metadata": {},
   "outputs": [
    {
     "name": "stdout",
     "output_type": "stream",
     "text": [
      "0\n",
      "1\n",
      "2\n"
     ]
    }
   ],
   "source": [
    "counter = 0\n",
    "print(counter)\n",
    "counter = counter + 1\n",
    "print(counter)\n",
    "counter += 1\n",
    "print(counter)\n",
    "#counter *=, -=, /= increment operator"
   ]
  },
  {
   "cell_type": "markdown",
   "metadata": {},
   "source": [
    "## Datatypes\n",
    "### What are some datatypes that we've seen?"
   ]
  },
  {
   "cell_type": "code",
   "execution_count": null,
   "metadata": {},
   "outputs": [],
   "source": []
  },
  {
   "cell_type": "code",
   "execution_count": 33,
   "metadata": {},
   "outputs": [
    {
     "name": "stdout",
     "output_type": "stream",
     "text": [
      "Tim\n",
      "Ubial\n",
      "Paul\n"
     ]
    }
   ],
   "source": [
    "# String\n",
    "my_name = \"Tim\"\n",
    "# f-strings\n",
    "my_last_name = f\"Ubial\"\n",
    "\n",
    "print(my_name)\n",
    "print(my_last_name)\n",
    "\n",
    "# OTHER DATATYPES\n",
    "\n",
    "12 #number => integer(whole)\n",
    "12.0 #number => float\n",
    "\n",
    "True   #Boolean values\n",
    "False\n",
    "\n",
    "[1, 2, 3, 4] # List\n",
    "[\"1\", \"2\"]\n",
    "[1, \"one\"]\n",
    "\n",
    "{\"name\": \"Matthew\"} # Dictionary(like a list)\n",
    "\n",
    "#example\n",
    "\n",
    "student = {\n",
    "    \"name\": \"Paul\",\n",
    "    \"student number\" : 1234,\n",
    "    \"a-block\" : \"Chemistry 12\"\n",
    "}\n",
    "print(student[\"name\"])\n",
    "print(student[\"a-block\"])"
   ]
  },
  {
   "cell_type": "markdown",
   "metadata": {},
   "source": [
    "### Casting\n",
    "What do we do to force Python to look at a string like it's a number?"
   ]
  },
  {
   "cell_type": "code",
   "execution_count": 35,
   "metadata": {},
   "outputs": [
    {
     "name": "stdout",
     "output_type": "stream",
     "text": [
      "21\n"
     ]
    }
   ],
   "source": [
    "age = \"16\"\n",
    "#add 5 to the age\n",
    "\n",
    "new_age = int(age) + 5 #casting age as an integer\n",
    "print(new_age)"
   ]
  },
  {
   "cell_type": "code",
   "execution_count": 40,
   "metadata": {},
   "outputs": [
    {
     "data": {
      "text/plain": [
       "float"
      ]
     },
     "execution_count": 40,
     "metadata": {},
     "output_type": "execute_result"
    }
   ],
   "source": [
    "#type function shows what type of value\n",
    "\n",
    "age = (16.)\n",
    "type(age)"
   ]
  },
  {
   "cell_type": "markdown",
   "metadata": {},
   "source": [
    "# Statements and Expressions\n",
    "\n",
    "A Statement is an instruction that PYthon can execute.\n",
    "> Assignment (when we assign a value to a variable) is an **statement**\n",
    "> example: `date_of_birth - \"January 22\"`\n",
    "\n",
    "An **expression** is a statemtn that MUST BE EVALUATED\n",
    "> example: 'date_of_birth_and_year = date_of_birth + \" 2020\""
   ]
  },
  {
   "cell_type": "markdown",
   "metadata": {},
   "source": [
    "## Order of Operations\n",
    "\n",
    "BEDMAS\n",
    "1. Brackets\n",
    "2. Exponents\n",
    "3. Division and Multiplication\n",
    "4. Addition and Subtraction\n",
    "\n",
    "Evaluates from left-to-right(left-associative) "
   ]
  },
  {
   "cell_type": "code",
   "execution_count": 47,
   "metadata": {},
   "outputs": [
    {
     "name": "stdout",
     "output_type": "stream",
     "text": [
      "4\n",
      "3\n",
      "2\n"
     ]
    }
   ],
   "source": [
    "#Exponents **\n",
    "\n",
    "squared = 2 ** 2 # 2^2\n",
    "\n",
    "#Floor divions // (gives the results in an int)\n",
    "\n",
    "division_results = 18//4\n",
    "print(division_results)\n",
    "\n",
    "# find the remainder -- Module\n",
    "\n",
    "remainder = 8 % 5\n",
    "print(remainder)\n",
    "\n",
    "#Module application\n",
    "#Find out if 14967857 is divisible by 7\n",
    "\n",
    "remainder = 14967857 % 7 #if remainder is 0 == divisible\n",
    "print(remainder)"
   ]
  },
  {
   "cell_type": "markdown",
   "metadata": {},
   "source": [
    "## Input\n",
    "### How do we get input from a user?"
   ]
  },
  {
   "cell_type": "code",
   "execution_count": null,
   "metadata": {},
   "outputs": [],
   "source": [
    "# Use the input() function\n",
    "your_name = input(f'What\\'s your name? ')\n",
    "print(your_name)"
   ]
  },
  {
   "cell_type": "markdown",
   "metadata": {},
   "source": [
    "---\n",
    "# Assignment\n",
    "For each of these programs, be sure to put in the header _(Title, Author, Date)_.\n",
    "## Create a program that asks the user for a temperature in Fahrenheit, and then prints the temperature in Celsius.\n",
    "The formula for conversion is:  \n",
    "`C = (F − 32) × 5/9 `"
   ]
  },
  {
   "cell_type": "code",
   "execution_count": null,
   "metadata": {},
   "outputs": [],
   "source": [
    "# Fahrenheit to Celsius\n",
    "# Author: Ubial\n",
    "# Date: 7 February\n",
    "\n",
    "# Get temperature from user in Celsius\n",
    "temp_in_fahrenheit = input(f'Please give the temperature in Fahrenheit to convert: ')\n",
    "\n",
    "# Make the calculation\n",
    "temp_in_celsius = (float(temp_in_fahrenheit) - 32) * 5 / 9\n",
    "\n",
    "# Tell the user the conversion\n",
    "print(f'{temp_in_fahrenheit} deg F is {temp_in_celsius} deg C.')"
   ]
  },
  {
   "cell_type": "markdown",
   "metadata": {},
   "source": [
    "## Create a program that takes the radius of a circle and calculates its area.\n",
    "The formula to calculate the area is:  \n",
    "`A = pi * r ^ 2`  \n",
    "Note:  \n",
    "In order to use pi, **import the math module**.  \n",
    "It has the constant, pi, that you can use.\n",
    "You can use it by using `math.pi`."
   ]
  },
  {
   "cell_type": "code",
   "execution_count": null,
   "metadata": {},
   "outputs": [],
   "source": [
    "# Calculate Area of Circle\n",
    "# Author: Ubial\n",
    "# Date: 7 Feb 2019\n",
    "\n",
    "import math\n",
    "\n",
    "# Get the radius from user\n",
    "radius = input(f'Enter the radius: ')\n",
    "area = math.pi * float(radius) ** 2\n",
    "\n",
    "# Print the result\n",
    "print(f'The area of the circle is {area} square units.')"
   ]
  },
  {
   "cell_type": "markdown",
   "metadata": {},
   "source": [
    "## Create a program that tells a three jokes.\n",
    "Each of the jokes needs to interact with the user."
   ]
  },
  {
   "cell_type": "code",
   "execution_count": null,
   "metadata": {},
   "outputs": [],
   "source": [
    "# Comedian Bot\n",
    "# Author: Ubial\n",
    "# Date: 7 Feb 2019"
   ]
  }
 ],
 "metadata": {
  "kernelspec": {
   "display_name": "Python 3",
   "language": "python",
   "name": "python3"
  },
  "language_info": {
   "codemirror_mode": {
    "name": "ipython",
    "version": 3
   },
   "file_extension": ".py",
   "mimetype": "text/x-python",
   "name": "python",
   "nbconvert_exporter": "python",
   "pygments_lexer": "ipython3",
   "version": "3.8.2"
  }
 },
 "nbformat": 4,
 "nbformat_minor": 4
}
